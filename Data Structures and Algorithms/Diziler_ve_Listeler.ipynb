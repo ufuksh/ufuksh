{
 "cells": [
  {
   "cell_type": "code",
   "execution_count": 1,
   "metadata": {},
   "outputs": [],
   "source": [
    "# Bit Manipulation\n",
    "\n",
    "def numara():\n",
    "    liste = [1,2,3,2,1]\n",
    "    sonuç = 0\n",
    "    for numara in liste:\n",
    "        sonuç = numara ^ sonuç\n",
    "    return sonuç"
   ]
  },
  {
   "cell_type": "code",
   "execution_count": 2,
   "metadata": {},
   "outputs": [
    {
     "data": {
      "text/plain": [
       "3"
      ]
     },
     "execution_count": 2,
     "metadata": {},
     "output_type": "execute_result"
    }
   ],
   "source": [
    "numara()"
   ]
  },
  {
   "cell_type": "code",
   "execution_count": 35,
   "metadata": {},
   "outputs": [],
   "source": [
    "# Majority Element\n",
    "list = [1,1,1,1,2,3,4,5,1,4,5,7]"
   ]
  },
  {
   "cell_type": "code",
   "execution_count": 36,
   "metadata": {},
   "outputs": [],
   "source": [
    "def findMajority():\n",
    "    numbers = {}\n",
    "    result = 0\n",
    "    maxNumber = 0\n",
    "\n",
    "    for num in list:\n",
    "        numbers[num] = 1 + numbers.get(num,0)\n",
    "        if numbers[num] > maxNumber:\n",
    "            result = num\n",
    "        maxNumber = max(maxNumber,numbers[num])\n",
    "    return result"
   ]
  },
  {
   "cell_type": "code",
   "execution_count": 37,
   "metadata": {},
   "outputs": [
    {
     "data": {
      "text/plain": [
       "1"
      ]
     },
     "execution_count": 37,
     "metadata": {},
     "output_type": "execute_result"
    }
   ],
   "source": [
    "findMajority()"
   ]
  },
  {
   "cell_type": "code",
   "execution_count": 55,
   "metadata": {},
   "outputs": [],
   "source": [
    "# Boyer Moore Algotithm\n",
    "list2 = [1,2,3,4,5,6,7,8,3,2,4,6,7,7,78,9,7,8,7,7,7]\n",
    "\n",
    "def boyerMoore():\n",
    "    result = 0\n",
    "    count = 0\n",
    "\n",
    "    for num in list2:\n",
    "        if count == 0:\n",
    "            result = num\n",
    "        count += 1 if num == result else -1\n",
    "    return result"
   ]
  },
  {
   "cell_type": "code",
   "execution_count": 56,
   "metadata": {},
   "outputs": [
    {
     "data": {
      "text/plain": [
       "7"
      ]
     },
     "execution_count": 56,
     "metadata": {},
     "output_type": "execute_result"
    }
   ],
   "source": [
    "boyerMoore()"
   ]
  },
  {
   "cell_type": "code",
   "execution_count": null,
   "metadata": {},
   "outputs": [],
   "source": []
  }
 ],
 "metadata": {
  "kernelspec": {
   "display_name": "Python 3",
   "language": "python",
   "name": "python3"
  },
  "language_info": {
   "codemirror_mode": {
    "name": "ipython",
    "version": 3
   },
   "file_extension": ".py",
   "mimetype": "text/x-python",
   "name": "python",
   "nbconvert_exporter": "python",
   "pygments_lexer": "ipython3",
   "version": "3.10.5"
  },
  "orig_nbformat": 4
 },
 "nbformat": 4,
 "nbformat_minor": 2
}
