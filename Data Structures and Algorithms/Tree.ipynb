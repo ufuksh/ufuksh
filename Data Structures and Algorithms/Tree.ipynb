{
 "cells": [
  {
   "cell_type": "code",
   "execution_count": 1,
   "metadata": {},
   "outputs": [],
   "source": [
    "class Node:\n",
    "    def __init__(self, value):\n",
    "        self.data = value\n",
    "        self.left = None\n",
    "        self.right = None"
   ]
  },
  {
   "cell_type": "code",
   "execution_count": 2,
   "metadata": {},
   "outputs": [],
   "source": [
    "class BinarySearchTree:\n",
    "    \n",
    "    def __init__(self):\n",
    "        self.root = None\n",
    "\n",
    "    def insert(self, value):\n",
    "        \n",
    "        newNode = Node(value)\n",
    "        \n",
    "        if self.root is None:\n",
    "            \n",
    "            self.root = newNode\n",
    "            return True\n",
    "        \n",
    "        tempNode = self.root\n",
    "        \n",
    "        while True:\n",
    "            \n",
    "            if newNode.value == tempNode.value:\n",
    "                return False\n",
    "            \n",
    "            if newNode.value < tempNode.value:\n",
    "                if tempNode.left is None:\n",
    "                    tempNode.left = newNode\n",
    "                    return True\n",
    "                tempNode = tempNode.left\n",
    "            \n",
    "            else: \n",
    "                if tempNode.right is None:\n",
    "                    tempNode.right = newNode\n",
    "                    return True\n",
    "                tempNode = tempNode.right\n",
    "\n",
    "    def contains(self, value):\n",
    "        tempNode = self.root\n",
    "        \n",
    "        while tempNode:\n",
    "            if value < tempNode.value:\n",
    "                tempNode = tempNode.left\n",
    "            elif value > tempNode.value:\n",
    "                tempNode = tempNode.right\n",
    "            else:\n",
    "                return True\n",
    "        return False\n",
    "        "
   ]
  },
  {
   "cell_type": "code",
   "execution_count": 3,
   "metadata": {},
   "outputs": [],
   "source": [
    "myTree = BinarySearchTree()"
   ]
  },
  {
   "cell_type": "code",
   "execution_count": 4,
   "metadata": {},
   "outputs": [
    {
     "data": {
      "text/plain": [
       "True"
      ]
     },
     "execution_count": 4,
     "metadata": {},
     "output_type": "execute_result"
    }
   ],
   "source": [
    "myTree.insert(67)"
   ]
  },
  {
   "cell_type": "code",
   "execution_count": null,
   "metadata": {},
   "outputs": [],
   "source": [
    "# Recursion\n",
    "\n"
   ]
  }
 ],
 "metadata": {
  "kernelspec": {
   "display_name": "Python 3",
   "language": "python",
   "name": "python3"
  },
  "language_info": {
   "codemirror_mode": {
    "name": "ipython",
    "version": 3
   },
   "file_extension": ".py",
   "mimetype": "text/x-python",
   "name": "python",
   "nbconvert_exporter": "python",
   "pygments_lexer": "ipython3",
   "version": "3.10.5"
  },
  "orig_nbformat": 4
 },
 "nbformat": 4,
 "nbformat_minor": 2
}
